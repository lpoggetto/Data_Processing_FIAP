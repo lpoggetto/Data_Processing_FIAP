{
 "cells": [
  {
   "cell_type": "markdown",
   "metadata": {},
   "source": [
    "# Lista 1"
   ]
  },
  {
   "cell_type": "markdown",
   "metadata": {},
   "source": [
    "### Exercício 1 - Estrutura Sequencial\n",
    "Faça um Programa que peça um número e então mostre a mensagem O número informado foi [número]."
   ]
  },
  {
   "cell_type": "code",
   "execution_count": 4,
   "metadata": {},
   "outputs": [
    {
     "name": "stdout",
     "output_type": "stream",
     "text": [
      "O número informado foi: 500.0\n"
     ]
    }
   ],
   "source": [
    "# entrada de informacao\n",
    "num_input = float(input())\n",
    "\n",
    "# retorno de valor inputado\n",
    "print(f'O número informado foi: {num_input}')"
   ]
  },
  {
   "cell_type": "markdown",
   "metadata": {},
   "source": [
    "### Exercício 2 - Estrutura Sequencial\n",
    "Faça um Programa que converta metros para centímetros."
   ]
  },
  {
   "cell_type": "code",
   "execution_count": 3,
   "metadata": {},
   "outputs": [
    {
     "name": "stdout",
     "output_type": "stream",
     "text": [
      "10.0 metros correspondem a 1000.0cm\n"
     ]
    }
   ],
   "source": [
    "# entrada de informacao\n",
    "num_input_metros = float(input('Insira a qtd. de metros para serem convertidos'))\n",
    "\n",
    "# retornando a conversao de metros para centimetros 1m = 100cm\n",
    "print(f'{num_input_metros} metros correspondem a {num_input_metros * 100} cm')"
   ]
  },
  {
   "cell_type": "markdown",
   "metadata": {},
   "source": [
    "### Exercício 3 - Estrutura Sequencial\n",
    "Faça um Programa que peça a temperatura em graus Farenheit, transforme e mostre a temperatura em graus Celsius.\n",
    "\n",
    "C = (5 * (F-32) / 9).\n"
   ]
  },
  {
   "cell_type": "code",
   "execution_count": 1,
   "metadata": {},
   "outputs": [
    {
     "name": "stdout",
     "output_type": "stream",
     "text": [
      "32.0 Fº correspondem a 0.0 Cº\n"
     ]
    }
   ],
   "source": [
    "# entrada de informacao\n",
    "num_input_farenheit = float(input('Insira a temperatura em farenheit'))\n",
    "\n",
    "# convertendo farenheit para celsius\n",
    "celsius = ((5 * (num_input_farenheit - 32)) / 9)\n",
    "\n",
    "# apresentando resultado\n",
    "print(f'{num_input_farenheit} Fº correspondem a {celsius} Cº')"
   ]
  },
  {
   "cell_type": "markdown",
   "metadata": {},
   "source": [
    "### Exercício 4 - Listas\n",
    "Faça um Programa que leia um vetor de 5 números inteiros e mostre-os.\n"
   ]
  },
  {
   "cell_type": "code",
   "execution_count": 6,
   "metadata": {},
   "outputs": [
    {
     "name": "stdout",
     "output_type": "stream",
     "text": [
      "[1, 2, 3, 4, 5]\n"
     ]
    }
   ],
   "source": [
    "# criando input de vetor com 5 numeros inteiros\n",
    "vetor1 =  []\n",
    "\n",
    "for n in range(1, 6):\n",
    "    vetor1.append(n)\n",
    "\n",
    "print(vetor1)"
   ]
  },
  {
   "cell_type": "markdown",
   "metadata": {},
   "source": [
    "### Exercício 5 - Listas\n",
    "Faça um Programa que leia 20 números inteiros e armazene-os num vetor. Armazene os números pares no vetor PAR e os números ímpares no vetor IMPARES. Imprima os vetores."
   ]
  },
  {
   "cell_type": "code",
   "execution_count": 13,
   "metadata": {},
   "outputs": [
    {
     "name": "stdout",
     "output_type": "stream",
     "text": [
      "os valores PARES no vetor sao [2, 4, 6, 8, 10, 12, 14, 16, 18, 20] e os impares sao [1, 3, 5, 7, 9, 11, 13, 15, 17, 19]\n"
     ]
    }
   ],
   "source": [
    "par = []\n",
    "impar = []\n",
    "\n",
    "for n in range(1, 21):\n",
    "    if n % 2 == 0:\n",
    "        par.append(n)\n",
    "    else:\n",
    "        impar.append(n)\n",
    "\n",
    "print(f'os valores PARES no vetor sao {par} e os impares sao {impar}')"
   ]
  },
  {
   "cell_type": "markdown",
   "metadata": {},
   "source": [
    "### Exercício 6 - Listas\n",
    "\n",
    "Faça um Programa que leia um vetor de 10 caracteres, e diga quantas consoantes foram lidas. Imprima as consoantes."
   ]
  },
  {
   "cell_type": "code",
   "execution_count": 30,
   "metadata": {},
   "outputs": [
    {
     "name": "stdout",
     "output_type": "stream",
     "text": [
      "No vetor existem 9 consoantes, sendo elas ['c', 'n', 'l', 'x', 'b', 'm', 'm', 'k', 'y']\n"
     ]
    }
   ],
   "source": [
    "import string\n",
    "import numpy as np\n",
    "\n",
    "# criando vetor com 10 letras aleatorias\n",
    "vetor_char = np.random.choice(list(string.ascii_lowercase), size = 10)\n",
    "\n",
    "# criando listas para salvar as consoantes do vetor\n",
    "vogais = ['a', 'e', 'i', 'o', 'u']\n",
    "consoantes = []\n",
    "\n",
    "# verificando se as letras no vetor sao vogais ou consoantes\n",
    "for n in range(len(vetor_char)):\n",
    "    if vetor_char[n] in vogais:\n",
    "        pass\n",
    "    else:\n",
    "        consoantes.append(vetor_char[n])\n",
    "\n",
    "# retornando as consoantes\n",
    "print(f'No vetor existem {len(consoantes)} consoantes, sendo elas {consoantes}')\n"
   ]
  },
  {
   "cell_type": "markdown",
   "metadata": {},
   "source": [
    "### Exercício 7 - Tuplas\n",
    "\n",
    "Crie uma tupla chamada cores contendo três cores de sua escolha. Em seguida, imprima cada cor em uma linha separada."
   ]
  },
  {
   "cell_type": "code",
   "execution_count": 36,
   "metadata": {},
   "outputs": [
    {
     "name": "stdout",
     "output_type": "stream",
     "text": [
      "vermelho\n",
      "amarelo\n",
      "azul\n"
     ]
    }
   ],
   "source": [
    "tupla_cor = tuple(['vermelho', 'amarelo', 'azul'])\n",
    "\n",
    "for cor in range(len(tupla_cor)):\n",
    "    print(tupla_cor[cor])"
   ]
  },
  {
   "cell_type": "markdown",
   "metadata": {},
   "source": [
    "### Exercício 8 - Tuplas\n",
    "\n",
    "Dada a tupla ponto = (3, 4), calcule a distância do ponto à origem (0, 0) usando a fórmula matemática:   \n",
    "\n",
    "# $$\\sqrt{(x^2 + y^2)}$$\n",
    "\n",
    "Onde:  x e y são as coordenadas do ponto.\n"
   ]
  },
  {
   "cell_type": "code",
   "execution_count": 57,
   "metadata": {},
   "outputs": [
    {
     "name": "stdout",
     "output_type": "stream",
     "text": [
      "5.0\n"
     ]
    }
   ],
   "source": [
    "import matplotlib.pyplot as plt # plotando pontos\n",
    "from math import sqrt # importando modulo de raiz quadrada\n",
    "from math import pow # potencia\n",
    "\n",
    "# criando tuplas\n",
    "# sendo (x, y)\n",
    "tupla_ponto1 = (3,4)\n",
    "origem = (0, 0)\n",
    "\n",
    "\n",
    "x = (tupla_ponto1[0] - origem[0])\n",
    "y = (tupla_ponto1[1] - origem[1])\n",
    "\n",
    "# distancia entre pontos\n",
    "\n",
    "distancia = sqrt(pow(x, 2) + pow(y,2))\n",
    "\n",
    "print(distancia)\n"
   ]
  },
  {
   "cell_type": "code",
   "execution_count": 80,
   "metadata": {},
   "outputs": [
    {
     "data": {
      "image/png": "[encoded data removed]",
      "text/plain": [
       "<Figure size 640x480 with 1 Axes>"
      ]
     },
     "metadata": {},
     "output_type": "display_data"
    }
   ],
   "source": [
    "# criando imagem\n",
    "fig, ax = plt.subplots()\n",
    "\n",
    "# pontos no plano cartesiano\n",
    "x1, y1 = 0, 0\n",
    "x2, y2 = 3, 4\n",
    "\n",
    "# plotando os pontos\n",
    "ax.plot(x1, y1, 'ro', label = 'origem')\n",
    "ax.plot(x2, y2, 'ro', label = 'ponto 1')\n",
    "\n",
    "# linha entre os pontos\n",
    "ax.plot([x1, x2], [y1, y2], 'b-', label = 'distancia entre pontos')\n",
    "\n",
    "ax.legend()\n",
    "\n",
    "plt.show()"
   ]
  },
  {
   "cell_type": "markdown",
   "metadata": {},
   "source": [
    "### Exercício 9 - Tuplas\n",
    "\n",
    "Dada a tupla nomes = ('Data', 'Processing', 'with', 'Python', 'data'), conte quantas vezes o nome 'Data' aparece na tupla. \n"
   ]
  },
  {
   "cell_type": "code",
   "execution_count": 2,
   "metadata": {},
   "outputs": [
    {
     "name": "stdout",
     "output_type": "stream",
     "text": [
      "A palavra \"Data\" tem 1 ocorrencia na tupla\n"
     ]
    }
   ],
   "source": [
    "nomes = ('Data', 'Processing', 'with', 'Python', 'data')\n",
    "conta_palavra = 0\n",
    "\n",
    "for n in range(len(nomes)):\n",
    "    if nomes[n] == 'Data':\n",
    "        conta_palavra += 1\n",
    "\n",
    "print(f'A palavra \"Data\" tem {conta_palavra} ocorrencia na tupla')"
   ]
  },
  {
   "cell_type": "markdown",
   "metadata": {},
   "source": [
    "### Exercício 10 - Dicionarios\n",
    "\n",
    "Crie um dicionário chamado estoque com itens de um supermercado e suas quantidades. Solicite ao usuário que digite o nome de um item. Exiba a quantidade desse item, se existir no estoque."
   ]
  },
  {
   "cell_type": "code",
   "execution_count": 101,
   "metadata": {},
   "outputs": [
    {
     "name": "stdout",
     "output_type": "stream",
     "text": [
      "Nós temos 10 unidades de arroz\n"
     ]
    }
   ],
   "source": [
    "estoque = {\n",
    "    'arroz': 10,\n",
    "    'feijao' : 5,\n",
    "    'farinha' : 3,\n",
    "    'carne' : 4\n",
    "    }\n",
    "\n",
    "item_procurado = input('Qual o item procurado?').lower()\n",
    "\n",
    "if item_procurado in estoque.keys():\n",
    "    print(f'Nós temos {estoque.get(item_procurado)} unidades de {item_procurado}')\n",
    "else:\n",
    "    print('item fora de estoque')"
   ]
  },
  {
   "cell_type": "markdown",
   "metadata": {},
   "source": [
    "### Exercício 11 - Dicionarios\n",
    "\n",
    "Crie um dicionário chamado agenda com nomes de pessoas e seus números de telefone. Permita que o usuário adicione novos contatos à agenda. "
   ]
  },
  {
   "cell_type": "code",
   "execution_count": 3,
   "metadata": {},
   "outputs": [
    {
     "name": "stdout",
     "output_type": "stream",
     "text": [
      "Sua agenda: {'Fulano': '999658981', 'Jose': '999456841', 'Maria': '934578001', 'Ayrton': '994489611'}\n",
      "Contato adicionado - Lucas\n",
      "{'Fulano': '999658981', 'Jose': '999456841', 'Maria': '934578001', 'Ayrton': '994489611', 'Lucas': '18419841981'}\n"
     ]
    }
   ],
   "source": [
    "# criando agenda\n",
    "agenda = {\n",
    "    'Fulano': '999658981',\n",
    "    'Jose': '999456841',\n",
    "    'Maria': '934578001',\n",
    "    'Ayrton': '994489611',\n",
    "    }\n",
    "\n",
    "# printando agenda\n",
    "print(f'Sua agenda: {agenda}')\n",
    "\n",
    "# acrescentando nome da agenda e numero de contato\n",
    "nome_agenda = input('Digite o nome do contato')\n",
    "numero = input('Digite o numero do contato')\n",
    "\n",
    "# contato adicionado\n",
    "print(f'Contato adicionado - {nome_agenda}')\n",
    "\n",
    "# criando chave - valor no dicionario\n",
    "agenda[nome_agenda] = numero\n",
    "\n",
    "# agenda final\n",
    "print(agenda)"
   ]
  },
  {
   "cell_type": "markdown",
   "metadata": {},
   "source": [
    "### Exercício 12 - Dicionarios\n",
    "\n",
    "Crie dois dicionários, dicionario1 e dicionario2, com chaves e valores diferentes. Crie um terceiro dicionário, dicionario_misturado, que contenha todas as chaves e valores de ambos dicionario1 e dicionario2."
   ]
  },
  {
   "cell_type": "code",
   "execution_count": 109,
   "metadata": {},
   "outputs": [
    {
     "data": {
      "text/plain": [
       "{'frutas': 10,\n",
       " 'telefone': 999659897,\n",
       " 'pessoa': 'Michael Jackson',\n",
       " 'Lista favorita': [1, 2, 4, 'lista_teste'],\n",
       " 'Jogos': 4898790.45879,\n",
       " 'Raio do copo': 100,\n",
       " 'Livro': 'Game of Thrones',\n",
       " 'Dicionario maluco': {'teste1': 10, 'teste2': 'Maluco'}}"
      ]
     },
     "execution_count": 109,
     "metadata": {},
     "output_type": "execute_result"
    }
   ],
   "source": [
    "dicionario1 = {'frutas': 10,\n",
    "               'telefone' : 999659897,\n",
    "               'pessoa' : 'Michael Jackson',\n",
    "               'Lista favorita' : [1, 2 , 4, 'lista_teste']}\n",
    "\n",
    "dicionario2 = {'Jogos': 4898790.45879,\n",
    "               'Raio do copo' : 10**2,\n",
    "               'Livro' : 'Game of Thrones',\n",
    "               'Dicionario maluco' : {'teste1' : 10, 'teste2' : 'Maluco'}}\n",
    "\n",
    "dicionario_misturado = {}\n",
    "\n",
    "for valor in (dicionario1, dicionario2):\n",
    "    dicionario_misturado.update(valor)\n",
    "\n",
    "dicionario_misturado"
   ]
  },
  {
   "cell_type": "markdown",
   "metadata": {},
   "source": [
    "### Exercício 13 - Sets\n",
    "\n",
    "Crie um conjunto com números inteiros e permita que o usuário adicione novos números. Remova todas as duplicatas do conjunto e imprima o conjunto resultante."
   ]
  },
  {
   "cell_type": "code",
   "execution_count": 129,
   "metadata": {},
   "outputs": [
    {
     "name": "stdout",
     "output_type": "stream",
     "text": [
      "[1, 2, 3, 10, 20, 45, 999, 1]\n",
      "[1, 2, 3, 10, 20, 45, 999, 1, 6565656]\n",
      "[1, 2, 3, 10, 20, 45, 999, 1, 6565656, 48979798456456]\n",
      "[1, 2, 3, 10, 20, 45, 999, 1, 6565656, 48979798456456, 546498798465465]\n",
      "[1, 2, 3, 10, 20, 45, 999, 1, 6565656, 48979798456456, 546498798465465, 0]\n",
      "\n",
      " Os numeros sem duplicidade sao [0, 1, 2, 3, 10, 20, 45, 999, 6565656, 48979798456456, 546498798465465]\n"
     ]
    }
   ],
   "source": [
    "numeros_inteiros = [1, 2, 3, 10, 20, 45, 999]\n",
    "\n",
    "while True:\n",
    "    valor_adicionado = int(input('Adicione um novo numero ao conjunto - digite 0 para finalizar'))\n",
    "    numeros_inteiros.append(valor_adicionado)\n",
    "    print(numeros_inteiros)\n",
    "    if valor_adicionado == 0:\n",
    "        break\n",
    "\n",
    "numeros_unicos = sorted(set(numeros_inteiros))\n",
    "\n",
    "print(f'\\n Os numeros sem duplicidade sao {numeros_unicos}')\n"
   ]
  },
  {
   "cell_type": "markdown",
   "metadata": {},
   "source": [
    "### Exercício 14 - Sets\n",
    "\n",
    "Crie dois conjuntos, conjunto1 e conjunto2, com elementos diferentes. Realize operações de união, interseção e diferença entre esses conjuntos e imprima os resultados."
   ]
  },
  {
   "cell_type": "code",
   "execution_count": 4,
   "metadata": {},
   "outputs": [
    {
     "name": "stdout",
     "output_type": "stream",
     "text": [
      "Uniao dos 2 sets: {1, 3, 4, 5, 6, 7, 'pamonha', 9, 'batata', 12, 9999}\n",
      "Interseccao dos 2 sets: {1, 4, 'pamonha', 5, 6}\n",
      "diferenca dos 2 sets: {3, 'batata', 7, 9, 12, 9999}\n"
     ]
    }
   ],
   "source": [
    "\n",
    "conjunto1 = {1, 1, 12, 3, 4, 5, 6, 7, 9, 'pamonha', 9}\n",
    "conjunto2 = {'batata', 'pamonha', 1, 4, 5, 6, 9999}\n",
    "\n",
    "# Uniao\n",
    "uniao = conjunto1.union(conjunto2)\n",
    "print(f'Uniao dos 2 sets: {uniao}')\n",
    "\n",
    "# Interseccao\n",
    "interseccao = conjunto1.intersection(conjunto2)\n",
    "print(f'Interseccao dos 2 sets: {interseccao}')\n",
    "\n",
    "# diferenca\n",
    "\n",
    "diferenca = conjunto1.symmetric_difference(conjunto2)\n",
    "print(f'diferenca dos 2 sets: {diferenca}')\n"
   ]
  },
  {
   "cell_type": "markdown",
   "metadata": {},
   "source": [
    "### Exercício 15 - Sets\n",
    "\n",
    "Converta uma lista em um conjunto e, em seguida, converta o conjunto de volta para uma lista. Imprima a lista resultante para verificar se a conversão foi bem-sucedida."
   ]
  },
  {
   "cell_type": "code",
   "execution_count": 141,
   "metadata": {},
   "outputs": [
    {
     "name": "stdout",
     "output_type": "stream",
     "text": [
      "Lista Inicial: [1, 1, 2, 3, 10, 20, 45, 999, 'a', 'a', 'aa', 10, 20, 30]\n",
      "Lista apos manipulacoes: [1, 2, 3, 999, 10, 45, 20, 'a', 'aa', 30]\n"
     ]
    }
   ],
   "source": [
    "lista_ini = [1, 1, 2, 3, 10, 20, 45, 999, 'a', 'a', 'aa', 10, 20, 30]\n",
    "\n",
    "lista_ini_conjunto = set(lista_ini)\n",
    "\n",
    "lista_ini_conjunto_lista = list(lista_ini_conjunto)\n",
    "\n",
    "print(f'Lista Inicial: {lista_ini}')\n",
    "print(f'Lista apos manipulacoes: {lista_ini_conjunto_lista}')"
   ]
  }
 ],
 "metadata": {
  "kernelspec": {
   "display_name": "base",
   "language": "python",
   "name": "python3"
  },
  "language_info": {
   "codemirror_mode": {
    "name": "ipython",
    "version": 3
   },
   "file_extension": ".py",
   "mimetype": "text/x-python",
   "name": "python",
   "nbconvert_exporter": "python",
   "pygments_lexer": "ipython3",
   "version": "3.11.9"
  }
 },
 "nbformat": 4,
 "nbformat_minor": 2
}
