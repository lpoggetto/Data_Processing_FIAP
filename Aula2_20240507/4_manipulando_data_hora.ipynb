{
  "cells": [
    {
      "cell_type": "markdown",
      "metadata": {},
      "source": [
        "## Trabalhando com Tempo"
      ]
    },
    {
      "cell_type": "code",
      "execution_count": null,
      "metadata": {
        "colab": {
          "base_uri": "https://localhost:8080/",
          "height": 54
        },
        "id": "MTTugzZJoRU_",
        "outputId": "930f2deb-a203-4f2d-c00e-494856ce0f73"
      },
      "outputs": [],
      "source": [
        "\"\"\"\n",
        "Manipulando Data e Hora\n",
        "\n",
        "Python tem um módulo built-in (integrado) para se trabalhar com data e hora\n",
        "chamado datetime\n",
        "\n",
        "2018-12-21 15:36:38.056382\n",
        "\"\"\""
      ]
    },
    {
      "cell_type": "code",
      "execution_count": null,
      "metadata": {},
      "outputs": [],
      "source": [
        "import time\n",
        "\n",
        "print(dir(time))"
      ]
    },
    {
      "cell_type": "code",
      "execution_count": null,
      "metadata": {},
      "outputs": [],
      "source": [
        "print (time.localtime()) #imprime como uma estrutura\n",
        "print (time.asctime()) #imprime como string\n",
        "for x in range(5):\n",
        "    time.sleep(3)\n",
        "    print('Espera 3 segundos e imprime na tela\\n')"
      ]
    },
    {
      "cell_type": "code",
      "execution_count": null,
      "metadata": {},
      "outputs": [],
      "source": [
        "start_time = time.time()\n",
        "\n",
        "x = 0\n",
        "for i in range(0,1000000):\n",
        "    x += i\n",
        "\n",
        "end_time = time.time()\n",
        "\n",
        "print(x)\n",
        "print('tempo decorrido: ',end_time-start_time, 'segundos')"
      ]
    },
    {
      "cell_type": "code",
      "execution_count": null,
      "metadata": {},
      "outputs": [],
      "source": [
        "from datetime import datetime, timedelta\n",
        "\n",
        "# Obtendo a data atual\n",
        "data_atual = datetime.now()\n",
        "print(\"Data atual:\", data_atual)\n",
        "\n",
        "# Definindo um intervalo de tempo de 7 dias\n",
        "intervalo = timedelta(days=7)\n",
        "\n",
        "# Calculando uma data 7 dias no futuro\n",
        "data_futura = data_atual + intervalo\n",
        "print(\"Data daqui a 7 dias:\", data_futura)\n",
        "\n",
        "# Calculando uma data 7 dias no passado\n",
        "data_passada = data_atual - intervalo\n",
        "print(\"Data há 7 dias:\", data_passada)\n"
      ]
    },
    {
      "cell_type": "code",
      "execution_count": null,
      "metadata": {
        "colab": {
          "base_uri": "https://localhost:8080/"
        },
        "id": "jqqzBXmyo5wK",
        "outputId": "e74a9ca7-c416-4faf-b230-d8530002901d"
      },
      "outputs": [],
      "source": [
        "print(dir(datetime))"
      ]
    },
    {
      "cell_type": "code",
      "execution_count": null,
      "metadata": {
        "colab": {
          "base_uri": "https://localhost:8080/"
        },
        "id": "I5KUclJModke",
        "outputId": "501a8c81-ca90-444b-8fea-b6f0a2c0a08d"
      },
      "outputs": [],
      "source": [
        "import datetime\n",
        "\n",
        "print(datetime.MAXYEAR)\n",
        "\n",
        "print(datetime.MINYEAR)"
      ]
    },
    {
      "cell_type": "code",
      "execution_count": null,
      "metadata": {
        "colab": {
          "base_uri": "https://localhost:8080/"
        },
        "id": "6FUPMVW7onIE",
        "outputId": "c1df7673-3846-41be-963b-19aa2881f0d3"
      },
      "outputs": [],
      "source": [
        "# Retorna a data e hora corrente\n",
        "print(datetime.datetime.now())"
      ]
    },
    {
      "cell_type": "code",
      "execution_count": null,
      "metadata": {
        "colab": {
          "base_uri": "https://localhost:8080/"
        },
        "id": "kYrCSfB4pEQS",
        "outputId": "a9ca5482-06ed-4251-a9f1-f8a6a182cfef"
      },
      "outputs": [],
      "source": [
        "# Return the canonical string representation of the object.\n",
        "print(repr(datetime.datetime.now()))     # datetime.datetime(year, month, day, hour, minute, second, microsecond)"
      ]
    },
    {
      "cell_type": "code",
      "execution_count": null,
      "metadata": {
        "colab": {
          "base_uri": "https://localhost:8080/"
        },
        "id": "_HTPSu6IpIyY",
        "outputId": "e4e36e1b-e49d-4ca2-8ebd-7fef85a39ca1"
      },
      "outputs": [],
      "source": [
        "inicio = datetime.datetime.now()\n",
        "\n",
        "print(inicio)"
      ]
    },
    {
      "cell_type": "code",
      "execution_count": null,
      "metadata": {
        "colab": {
          "base_uri": "https://localhost:8080/"
        },
        "id": "meN1k-YVpmTt",
        "outputId": "52df4371-46c1-44d0-a228-be3744f2a56e"
      },
      "outputs": [],
      "source": [
        "# replace() para fazer ajustes na data/hora\n",
        "# Alterar o horário para 16 horas, 0 minuto, 0 segund, 0 microsegundo\n",
        "inicio = inicio.replace(year=2023, hour=16, minute=0, second=0, microsecond=0)\n",
        "\n",
        "print(inicio)"
      ]
    },
    {
      "cell_type": "code",
      "execution_count": null,
      "metadata": {
        "colab": {
          "base_uri": "https://localhost:8080/"
        },
        "id": "C_J8dYUupo6n",
        "outputId": "6e80fbec-0510-442e-db22-1dae07955e80"
      },
      "outputs": [],
      "source": [
        "nascimento = input('Informa sua data de nascimento (dd/mm/yyy): ')\n",
        "\n",
        "print(type(nascimento))\n",
        "\n",
        "nascimento = nascimento.split('/')\n",
        "\n",
        "nascimento = datetime.datetime(int(nascimento[2]), int(nascimento[1]), int(nascimento[0]))\n",
        "\n",
        "print(nascimento)\n",
        "\n",
        "print(type(nascimento))"
      ]
    },
    {
      "cell_type": "code",
      "execution_count": null,
      "metadata": {
        "colab": {
          "base_uri": "https://localhost:8080/"
        },
        "id": "tTh8GprkptC-",
        "outputId": "dbd59b85-52c3-44ca-c003-58770fb7aed3"
      },
      "outputs": [],
      "source": [
        "evento = datetime.datetime.now()\n",
        "\n",
        "# Acessa individual dos elementos de data e hora\n",
        "\n",
        "print(evento.year)  # ano\n",
        "print(evento.month)  # mês\n",
        "print(evento.day)  # dia\n",
        "print(evento.hour)  # hora\n",
        "print(evento.minute)  # minuto\n",
        "print(evento.second)  # segundo\n",
        "print(evento.microsecond)  # microsegundo\n",
        "\n",
        "print(dir(evento))\n"
      ]
    },
    {
      "cell_type": "markdown",
      "metadata": {},
      "source": [
        "### Exercícios\n",
        "\n",
        "#### 1) Obtenha a data atual e imprima-a na tela."
      ]
    },
    {
      "cell_type": "markdown",
      "metadata": {},
      "source": [
        "Duplo_clique __aqui__ para a solução.\n",
        "<!-- resposta abaixo:\n",
        "\n",
        "from datetime import datetime\n",
        "data_atual = datetime.now()\n",
        "print(\"Data atual:\", data_atual)\n",
        "\n",
        "-->"
      ]
    },
    {
      "cell_type": "markdown",
      "metadata": {},
      "source": [
        "#### 2) Obtenha a data atual e imprima-a na tela no formato dia/mês/ano.\n",
        "\n",
        "Instruções\n",
        "\n",
        "- Pesquise pela função strftime"
      ]
    },
    {
      "cell_type": "markdown",
      "metadata": {},
      "source": [
        "Duplo_clique __aqui__ para a solução.\n",
        "<!-- resposta abaixo:\n",
        "\n",
        "from datetime import datetime\n",
        "data_atual = datetime.now()\n",
        "data_formatada = data_atual.strftime(\"%d/%m/%Y\")\n",
        "print(\"Data formatada:\", data_formatada)\n",
        "\n",
        "-->"
      ]
    },
    {
      "cell_type": "markdown",
      "metadata": {},
      "source": [
        "#### 3) Agende uma tarefa para ser executada daqui a 10 minutos e imprima uma mensagem quando ela for executada."
      ]
    },
    {
      "cell_type": "markdown",
      "metadata": {},
      "source": [
        "Duplo_clique __aqui__ para a solução.\n",
        "<!-- resposta abaixo:\n",
        "\n",
        "from datetime import datetime, timedelta\n",
        "agora = datetime.now()\n",
        "atraso = timedelta(minutes=10)\n",
        "tarefa_agendada = agora + atraso\n",
        "print(\"Tarefa agendada para:\", tarefa_agendada)\n",
        "\n",
        "-->"
      ]
    }
  ],
  "metadata": {
    "colab": {
      "provenance": []
    },
    "kernelspec": {
      "display_name": "Python 3",
      "name": "python3"
    },
    "language_info": {
      "codemirror_mode": {
        "name": "ipython",
        "version": 3
      },
      "file_extension": ".py",
      "mimetype": "text/x-python",
      "name": "python",
      "nbconvert_exporter": "python",
      "pygments_lexer": "ipython3",
      "version": "3.11.4"
    }
  },
  "nbformat": 4,
  "nbformat_minor": 0
}
