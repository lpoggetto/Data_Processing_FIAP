{
 "cells": [
  {
   "cell_type": "markdown",
   "metadata": {},
   "source": [
    "## Regex - Expressões Regulares"
   ]
  },
  {
   "cell_type": "code",
   "execution_count": null,
   "metadata": {},
   "outputs": [],
   "source": [
    "import re\n",
    "rex = re.compile('\\w+') #qualquer caracter alfanumérico - compilado\n",
    "\n",
    "bandas = 'Queen, Aerosmith & Beatles'\n",
    "print (bandas, '->', rex.findall(bandas))\n",
    "\n",
    "phone = \"2004-959-559 # This is Phone Number\"\n",
    "\n",
    "num = re.sub('#.*$', \"\", phone) #elimina tudo após #\n",
    "print (\"Phone Num : \", num)\n",
    "\n",
    "num = re.sub(r'\\D', \"\", phone)# só deixa número\n",
    "print (\"Phone Num : \", num)"
   ]
  },
  {
   "cell_type": "code",
   "execution_count": null,
   "metadata": {},
   "outputs": [],
   "source": [
    "# Outro Exemplo\n",
    "import re\n",
    "\n",
    "# Definindo um padrão de expressão regular para validar o número de telefone\n",
    "padrao_telefone = r\"\\(\\d{3}\\) \\d{4}-\\d{4}\"\n",
    "\n",
    "# Lista de números de telefone para validação\n",
    "numeros_telefone = [\n",
    "    \"(123) 4567-8901\",\n",
    "    \"(987) 6543-2109\",\n",
    "    \"1234567890\",\n",
    "    \"(555) 123-4567\",\n",
    "]\n",
    "\n",
    "# Validando os números de telefone usando expressões regulares\n",
    "for numero in numeros_telefone:\n",
    "    if re.match(padrao_telefone, numero):\n",
    "        print(f\"O número {numero} é válido.\")\n",
    "    else:\n",
    "        print(f\"O número {numero} não é válido.\")"
   ]
  },
  {
   "cell_type": "markdown",
   "metadata": {},
   "source": [
    "### Exercícios\n",
    "\n",
    "#### 1) Valide se um endereço de e-mail está em um formato válido usando expressões regulares.\n"
   ]
  },
  {
   "cell_type": "markdown",
   "metadata": {},
   "source": [
    "Duplo_clique __aqui__ para a solução.\n",
    "<!-- resposta abaixo:\n",
    "\n",
    "import re\n",
    "email = \"usuario@example.com\"\n",
    "padrao_email = r\"[a-zA-Z0-9._%+-]+@[a-zA-Z0-9.-]+\\.[a-zA-Z]{2,}\"\n",
    "if re.match(padrao_email, email):\n",
    "    print(\"O email é válido.\")\n",
    "else:\n",
    "    print(\"O email não é válido.\")\n",
    "\n",
    "-->"
   ]
  },
  {
   "cell_type": "markdown",
   "metadata": {},
   "source": [
    "#### 2) Extraia todos os números de uma string usando expressões regulares."
   ]
  },
  {
   "cell_type": "markdown",
   "metadata": {},
   "source": [
    "Duplo_clique __aqui__ para a solução.\n",
    "<!-- resposta abaixo:\n",
    "\n",
    "import re\n",
    "texto = \"O site regex101.com tem funções importantes para formatação com vários exemplos.\"\n",
    "numeros = re.findall(r'\\d+', texto)\n",
    "print(\"Números encontrados:\", numeros)\n",
    "\n",
    "-->"
   ]
  },
  {
   "cell_type": "markdown",
   "metadata": {},
   "source": [
    "#### 3) Verifique se uma string está no formato de data dd/mm/aaaa usando expressões regulares."
   ]
  },
  {
   "cell_type": "markdown",
   "metadata": {},
   "source": [
    "Duplo_clique __aqui__ para a solução.\n",
    "<!-- resposta abaixo:\n",
    "\n",
    "import re\n",
    "data = \"31/12/2022\"\n",
    "padrao_data = r\"\\d{2}/\\d{2}/\\d{4}\"\n",
    "if re.match(padrao_data, data):\n",
    "    print(\"A data está no formato correto.\")\n",
    "else:\n",
    "    print(\"A data não está no formato correto.\")\n",
    "\n",
    "-->"
   ]
  }
 ],
 "metadata": {
  "kernelspec": {
   "display_name": "Python 3 (ipykernel)",
   "language": "python",
   "name": "python3"
  },
  "language_info": {
   "codemirror_mode": {
    "name": "ipython",
    "version": 3
   },
   "file_extension": ".py",
   "mimetype": "text/x-python",
   "name": "python",
   "nbconvert_exporter": "python",
   "pygments_lexer": "ipython3",
   "version": "3.11.4"
  }
 },
 "nbformat": 4,
 "nbformat_minor": 4
}
