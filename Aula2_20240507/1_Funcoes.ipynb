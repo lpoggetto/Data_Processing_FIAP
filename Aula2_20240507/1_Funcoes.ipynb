{
 "cells": [
  {
   "cell_type": "markdown",
   "metadata": {},
   "source": [
    "## Funções"
   ]
  },
  {
   "cell_type": "code",
   "execution_count": 45,
   "metadata": {},
   "outputs": [],
   "source": [
    "#implementação recursiva\n",
    "def fatorial(num):\n",
    "    \"\"\"\n",
    "    EXEMPLO DE DOCSTRING\n",
    "    Esta função calcula o fatorial de um número\n",
    "    usando implementação recursiva\n",
    "    \n",
    "    args: num (int) - número a partir do qual \n",
    "    será calculado o fatorial\n",
    "    \n",
    "    return: o fatorial de num\n",
    "    \"\"\"\n",
    "    if (num <= 1):\n",
    "        return 1\n",
    "    else:\n",
    "        return(num * fatorial(num - 1))"
   ]
  },
  {
   "cell_type": "code",
   "execution_count": 47,
   "metadata": {},
   "outputs": [
    {
     "name": "stdout",
     "output_type": "stream",
     "text": [
      "Help on function fatorial in module __main__:\n",
      "\n",
      "fatorial(num)\n",
      "    EXEMPLO DE DOCSTRING\n",
      "    Esta função calcula o fatorial de um número\n",
      "    usando implementação recursiva\n",
      "    \n",
      "    args: num (int) - número a partir do qual \n",
      "    será calculado o fatorial\n",
      "    \n",
      "    return: o fatorial de num\n",
      "\n"
     ]
    }
   ],
   "source": [
    "# EXEMPLO DE DOCSTRING\n",
    "help(fatorial)"
   ]
  },
  {
   "cell_type": "code",
   "execution_count": 8,
   "metadata": {},
   "outputs": [
    {
     "data": {
      "text/plain": [
       "6"
      ]
     },
     "execution_count": 8,
     "metadata": {},
     "output_type": "execute_result"
    }
   ],
   "source": [
    "y = fatorial(3)\n",
    "y"
   ]
  },
  {
   "cell_type": "code",
   "execution_count": 14,
   "metadata": {},
   "outputs": [],
   "source": [
    "# Verifica se um número é par\n",
    "def numero_par(num):\n",
    "    resto = num % 2\n",
    "    if (resto == 0):\n",
    "        return True\n",
    "    else:\n",
    "        return False"
   ]
  },
  {
   "cell_type": "code",
   "execution_count": 15,
   "metadata": {},
   "outputs": [
    {
     "name": "stdout",
     "output_type": "stream",
     "text": [
      "False\n"
     ]
    }
   ],
   "source": [
    "print(numero_par(3))"
   ]
  },
  {
   "cell_type": "markdown",
   "metadata": {},
   "source": [
    "## Funções Lambda"
   ]
  },
  {
   "cell_type": "code",
   "execution_count": 38,
   "metadata": {},
   "outputs": [
    {
     "data": {
      "text/plain": [
       "50"
      ]
     },
     "execution_count": 38,
     "metadata": {},
     "output_type": "execute_result"
    }
   ],
   "source": [
    "# Exemplo\n",
    "f = lambda x, y, z : x + y + z\n",
    "\n",
    "f(10,20,20)"
   ]
  },
  {
   "cell_type": "code",
   "execution_count": 41,
   "metadata": {},
   "outputs": [
    {
     "name": "stdout",
     "output_type": "stream",
     "text": [
      "Vagner Macedo\n",
      "Felicity Jones\n"
     ]
    }
   ],
   "source": [
    "# Podemos ter expressões lambdas com múltiplas entradas\n",
    "nome_completo = lambda nome, sobrenome: nome.strip().title() + ' ' + sobrenome.strip().title()\n",
    "\n",
    "print(nome_completo(' vagner', 'MACEDO'))\n",
    "print(nome_completo('  FELICITY       ', ' jones '))\n"
   ]
  },
  {
   "cell_type": "code",
   "execution_count": 43,
   "metadata": {},
   "outputs": [
    {
     "name": "stdout",
     "output_type": "stream",
     "text": [
      "Vagner Macedo\n",
      "Vagner X\n",
      "Vagner Santos\n"
     ]
    }
   ],
   "source": [
    "# VALOR DEFAULT\n",
    "nome_completo = lambda nome, sobrenome=\"X\": nome.strip().title() + ' ' + sobrenome.strip().title()\n",
    "\n",
    "print(nome_completo(' vagner', 'MACEDO'))\n",
    "print(nome_completo(' vagner'))\n",
    "print(nome_completo(' vagner','sANTOS'))\n"
   ]
  },
  {
   "cell_type": "markdown",
   "metadata": {},
   "source": [
    "### Exercícios\n",
    "\n",
    "#### 1) Crie uma função chamada calcular_media que recebe uma lista de números como argumento e retorna a média desses números."
   ]
  },
  {
   "cell_type": "code",
   "execution_count": 12,
   "metadata": {},
   "outputs": [
    {
     "data": {
      "text/plain": [
       "7.333333333333333"
      ]
     },
     "execution_count": 12,
     "metadata": {},
     "output_type": "execute_result"
    }
   ],
   "source": [
    "def calcular_media(a):\n",
    "    list_soma = 0\n",
    "    for valor in a:\n",
    "        list_soma += valor\n",
    "    return list_soma/len(a)\n",
    "\n",
    "calcular_media(a)"
   ]
  },
  {
   "cell_type": "markdown",
   "metadata": {},
   "source": [
    "Duplo_clique __aqui__ para a solução.\n",
    "<!-- resposta abaixo:\n",
    "\n",
    "def calcular_media(numeros):\n",
    "    return sum(numeros) / len(numeros)\n",
    "\n",
    "notas = [7, 8, 9, 10]\n",
    "media = calcular_media(notas)\n",
    "print(\"Média das notas:\", media)\n",
    "\n",
    "-->"
   ]
  },
  {
   "cell_type": "markdown",
   "metadata": {},
   "source": [
    "#### 2) Crie uma função chamada verificar_paridade que recebe um número como argumento e retorna se o número é par ou ímpar."
   ]
  },
  {
   "cell_type": "code",
   "execution_count": null,
   "metadata": {},
   "outputs": [],
   "source": []
  },
  {
   "cell_type": "markdown",
   "metadata": {},
   "source": [
    "Duplo_clique __aqui__ para a solução.\n",
    "<!-- resposta abaixo:\n",
    "\n",
    "def verificar_paridade(numero):\n",
    "    return \"par\" if numero % 2 == 0 else \"ímpar\"\n",
    "\n",
    "numero = int(input(\"Digite um número: \"))\n",
    "resultado = verificar_paridade(numero)\n",
    "print(\"O número é\", resultado)\n",
    "\n",
    "-->"
   ]
  },
  {
   "cell_type": "markdown",
   "metadata": {},
   "source": [
    "#### 3) Crie uma função lambda que recebe dois números como argumentos e retorna o primeiro número elevado à potência do segundo número."
   ]
  },
  {
   "cell_type": "code",
   "execution_count": 15,
   "metadata": {},
   "outputs": [
    {
     "data": {
      "text/plain": [
       "8"
      ]
     },
     "execution_count": 15,
     "metadata": {},
     "output_type": "execute_result"
    }
   ],
   "source": [
    "potencia = lambda x, y: x**y\n",
    "\n",
    "potencia(2,3)"
   ]
  },
  {
   "cell_type": "markdown",
   "metadata": {},
   "source": [
    "Duplo_clique __aqui__ para a solução.\n",
    "<!-- resposta abaixo:\n",
    "\n",
    "potencia = lambda x, y: x ** y\n",
    "resultado = potencia(2, 3)\n",
    "print(\"2 elevado à potência 3 é igual a\", resultado)\n",
    "\n",
    "-->"
   ]
  }
 ],
 "metadata": {
  "kernelspec": {
   "display_name": "Python 3 (ipykernel)",
   "language": "python",
   "name": "python3"
  },
  "language_info": {
   "codemirror_mode": {
    "name": "ipython",
    "version": 3
   },
   "file_extension": ".py",
   "mimetype": "text/x-python",
   "name": "python",
   "nbconvert_exporter": "python",
   "pygments_lexer": "ipython3",
   "version": "3.11.9"
  }
 },
 "nbformat": 4,
 "nbformat_minor": 4
}
