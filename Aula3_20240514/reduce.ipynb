{
 "cells": [
  {
   "cell_type": "code",
   "execution_count": null,
   "metadata": {},
   "outputs": [],
   "source": [
    "\"\"\"\n",
    "Reduce\n",
    "\n",
    "OBS: A partir do Python3+ a função reduce() não é mais uma função integrada (built-in). Agora temos\n",
    "que importar e utilizar esta função a partir do módulo 'functools'\n",
    "\n",
    "Guido van Rossum: Utilize a função reduce() se você realmente precisa dela. Em todo caso,\n",
    "99% das vezes um loop for é mais legível.\n",
    "\n",
    "Para entender o reduce()\n",
    "\n",
    "# Imagine que você tem uma coleção de dados:\n",
    "\n",
    "dados = [a1, a2, a3, ..., an]\n",
    "\n",
    "# E você tem uma função que recebe dois parâmetros:\n",
    "\n",
    "def funcao(x, y):\n",
    "    return x * y\n",
    "\n",
    "Assim como map() e filter(), a função reduce() recebe dois parâmetros: a função e o iterável.\n",
    "\n",
    "reduce(funcao, dados)\n",
    "\n",
    "A função reduce(), funciona da seguinte forma:\n",
    "   Passo 1: res1 = f(a1, a2) # Aplica a função nos dois primeiros elementos da coleção e guarda o resultado.\n",
    "   Passo 2: res2 = f(res1, a3) # Aplica a função passando o resultado do passo1 mais o terceiro elemento e guarda o res.\n",
    "\n",
    "   Isso é repetido até o final.\n",
    "   Passo 3: res3 = f(res2, a4)\n",
    "   .\n",
    "   .\n",
    "   .\n",
    "   Passo n: resn = f(resm , an)\n",
    "\n",
    "Ou seja, em cada passo ela aplica a função passando como primeiro argumento o resultado da aplicação anterior. No final,\n",
    "reduce() irá retornar o resultado final.\n",
    "\n",
    "Alternativamente, poderíamos ver a função reduce() como:\n",
    "\n",
    "funcao(funcao(funcao(a1, a2), a3), a4), ...), an)\n",
    "\"\"\""
   ]
  },
  {
   "cell_type": "code",
   "execution_count": null,
   "metadata": {},
   "outputs": [],
   "source": [
    "# Utilizar a função reduce() para multiplicar todos os números de uma lista\n",
    "from functools import reduce\n",
    "\n",
    "dados = [2, 3, 4, 5]\n",
    "\n",
    "# Para utilizar o reduce() nós precisamos de uma função que receba dois parâmetros\n",
    "multi = lambda x, y: x * y\n",
    "\n",
    "res = reduce(multi, dados)\n",
    "print(res)\n"
   ]
  },
  {
   "cell_type": "code",
   "execution_count": null,
   "metadata": {},
   "outputs": [],
   "source": [
    "# Utilizando um loop normal\n",
    "res = 1\n",
    "for n in dados:\n",
    "    res = res * n\n",
    "\n",
    "print(res)"
   ]
  },
  {
   "cell_type": "markdown",
   "metadata": {},
   "source": [
    "## Exercícios\n",
    "\n",
    "#### Suponha que você tenha uma lista de strings representando números inteiros e deseje concatená-las para formar um único número inteiro. Escreva uma função chamada concatenar_numeros que aceite uma lista de strings como argumento e retorne o número inteiro formado pela concatenação dessas strings. Em seguida, use a função reduce() para aplicar essa função à lista de strings dada.\n",
    "\n",
    "Instruções:\n",
    "\n",
    "1) Defina a função concatenar_numeros(lista_strings) que aceite uma lista de strings como argumento e retorne o número inteiro formado pela concatenação dessas strings.\n",
    "2) Importe a função reduce do módulo functools.\n",
    "3) Use a função reduce() para aplicar a função concatenar_numeros à lista de strings.\n",
    "4) Imprima o número inteiro resultante.\n"
   ]
  },
  {
   "cell_type": "markdown",
   "metadata": {},
   "source": [
    "Duplo_clique __aqui__ para a solução.\n",
    "<!-- resposta abaixo:\n",
    "from functools import reduce\n",
    "\n",
    "def concatenar_numeros(lista_strings):\n",
    "    return int(reduce(lambda x, y: x + y, lista_strings))\n",
    "\n",
    "# Lista de strings\n",
    "numeros = [\"3\", \"1\", \"4\", \"1\", \"5\", \"9\"]\n",
    "\n",
    "# Concatenando os números usando reduce\n",
    "numero_concatenado = concatenar_numeros(numeros)\n",
    "\n",
    "# Imprimindo o número inteiro resultante\n",
    "print(numero_concatenado)\n",
    "-->"
   ]
  },
  {
   "cell_type": "code",
   "execution_count": 1,
   "metadata": {},
   "outputs": [
    {
     "name": "stdout",
     "output_type": "stream",
     "text": [
      "314159\n"
     ]
    }
   ],
   "source": [
    "from functools import reduce\n",
    "\n",
    "def concatenar_numeros(lista_strings):\n",
    "    return int(reduce(lambda x, y: x + y, lista_strings))\n",
    "\n",
    "numeros = [\"3\", \"1\", \"4\", \"1\", \"5\", \"9\"]\n",
    "\n",
    "# Concatenando os números usando reduce\n",
    "numero_concatenado = concatenar_numeros(numeros)\n",
    "\n",
    "# Imprimindo o número inteiro resultante\n",
    "print(numero_concatenado)"
   ]
  },
  {
   "cell_type": "code",
   "execution_count": null,
   "metadata": {},
   "outputs": [],
   "source": []
  }
 ],
 "metadata": {
  "kernelspec": {
   "display_name": "Python 3",
   "language": "python",
   "name": "python3"
  },
  "language_info": {
   "codemirror_mode": {
    "name": "ipython",
    "version": 3
   },
   "file_extension": ".py",
   "mimetype": "text/x-python",
   "name": "python",
   "nbconvert_exporter": "python",
   "pygments_lexer": "ipython3",
   "version": "3.11.9"
  }
 },
 "nbformat": 4,
 "nbformat_minor": 2
}
